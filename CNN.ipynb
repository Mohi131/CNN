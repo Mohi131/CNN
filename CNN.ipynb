{
  "cells": [
    {
      "cell_type": "code",
      "execution_count": null,
      "metadata": {
        "id": "YN_hPBPw9D0c"
      },
      "outputs": [],
      "source": [
        "# Importing important libraries\n",
        "import numpy as np\n",
        "from __future__ import print_function\n",
        "import keras\n",
        "from keras.models import Sequential\n",
        "from keras.utils import to_categorical\n",
        "from keras.layers import Dense, Conv2D, MaxPooling2D, Dropout, Flatten\n",
        "import matplotlib.pyplot as plt\n",
        "%matplotlib inline"
      ]
    },
    {
      "cell_type": "code",
      "execution_count": null,
      "metadata": {
        "id": "ViUWvm849D0e",
        "outputId": "cb31f7dd-351e-4734-de86-b2805dc103aa"
      },
      "outputs": [
        {
          "name": "stdout",
          "output_type": "stream",
          "text": [
            "Downloading data from https://www.cs.toronto.edu/~kriz/cifar-10-python.tar.gz\n",
            "170500096/170498071 [==============================] - 89s 1us/step\n"
          ]
        }
      ],
      "source": [
        "# Importing important datasets\n",
        "from keras.datasets import cifar10\n",
        "(train_images, train_labels), (test_images, test_labels) = cifar10.load_data()"
      ]
    },
    {
      "cell_type": "code",
      "execution_count": null,
      "metadata": {
        "id": "le0t99mA9D0f",
        "outputId": "5cfa550b-aae8-40bd-ffce-f9181da04150"
      },
      "outputs": [
        {
          "name": "stdout",
          "output_type": "stream",
          "text": [
            "Training data shape :  (50000, 32, 32, 3) (50000, 1)\n",
            "Testing data shape :  (10000, 32, 32, 3) (10000, 1)\n"
          ]
        }
      ],
      "source": [
        "# Printing trainng and testing dataset\n",
        "print('Training data shape : ', train_images.shape, train_labels.shape)\n",
        "print('Testing data shape : ', test_images.shape, test_labels.shape)"
      ]
    },
    {
      "cell_type": "code",
      "execution_count": null,
      "metadata": {
        "id": "qVqkPQ6F9D0g",
        "outputId": "4044480f-0bf6-4849-aede-80b0acb54f27"
      },
      "outputs": [
        {
          "name": "stdout",
          "output_type": "stream",
          "text": [
            "Total number of outputs :  10\n",
            "Output classes :  [0 1 2 3 4 5 6 7 8 9]\n"
          ]
        }
      ],
      "source": [
        "# Find the unique numbers from the train labels\n",
        "classes = np.unique(train_labels)\n",
        "nClasses = len(classes)\n",
        "print('Total number of outputs : ', nClasses)\n",
        "print('Output classes : ', classes)"
      ]
    },
    {
      "cell_type": "code",
      "execution_count": null,
      "metadata": {
        "id": "7hztMnKJ9D0g",
        "outputId": "21ffe635-ef98-4ed1-bb0c-91ee3425cc9e"
      },
      "outputs": [
        {
          "data": {
            "text/plain": [
              "Text(0.5, 1.0, 'Ground Truth : [3]')"
            ]
          },
          "execution_count": 5,
          "metadata": {},
          "output_type": "execute_result"
        },
        {
          "data": {
            "image/png": "[encoded data removed]",
            "text/plain": [
              "<Figure size 288x144 with 2 Axes>"
            ]
          },
          "metadata": {
            "needs_background": "light"
          },
          "output_type": "display_data"
        }
      ],
      "source": [
        "plt.figure(figsize=[4,2])\n",
        "\n",
        "# Display the first image in training data\n",
        "plt.subplot(121)\n",
        "plt.imshow(train_images[0,:,:], cmap='gray')\n",
        "plt.title(\"Ground Truth : {}\".format(train_labels[0]))\n",
        "\n",
        "# Display the first image in testing data\n",
        "plt.subplot(122)\n",
        "plt.imshow(test_images[0,:,:], cmap='gray')\n",
        "plt.title(\"Ground Truth : {}\".format(test_labels[0]))"
      ]
    },
    {
      "cell_type": "code",
      "execution_count": null,
      "metadata": {
        "id": "TQVJsWe29D0h"
      },
      "outputs": [],
      "source": [
        "# Reshaping data\n",
        "nRows,nCols,nDims = train_images.shape[1:]\n",
        "train_data = train_images.reshape(train_images.shape[0], nRows, nCols, nDims)\n",
        "test_data = test_images.reshape(test_images.shape[0], nRows, nCols, nDims)\n",
        "input_shape = (nRows, nCols, nDims)\n",
        "\n",
        "train_data = train_data.astype('float32')\n",
        "test_data = test_data.astype('float32')"
      ]
    },
    {
      "cell_type": "code",
      "execution_count": null,
      "metadata": {
        "id": "WMkCnhId9D0i"
      },
      "outputs": [],
      "source": [
        "# Normalizing the data and converting target variables to categorical\n",
        "train_data /= 255\n",
        "test_data /= 255\n",
        "\n",
        "train_labels_one_hot = to_categorical(train_labels)\n",
        "test_labels_one_hot = to_categorical(test_labels)"
      ]
    },
    {
      "cell_type": "code",
      "execution_count": null,
      "metadata": {
        "id": "DefuBBzC9D0i",
        "outputId": "8dcb160b-8502-4cbb-cabc-082cd1ed2c95"
      },
      "outputs": [
        {
          "name": "stdout",
          "output_type": "stream",
          "text": [
            "Original label 0 :  [6]\n",
            "After conversion to categorical ( one-hot ) :  [0. 0. 0. 0. 0. 0. 1. 0. 0. 0.]\n"
          ]
        }
      ],
      "source": [
        "# Displaying target variable\n",
        "print('Original label 0 : ', train_labels[0])\n",
        "print('After conversion to categorical ( one-hot ) : ', train_labels_one_hot[0])"
      ]
    },
    {
      "cell_type": "code",
      "execution_count": null,
      "metadata": {
        "id": "k_9Sn_d09D0k"
      },
      "outputs": [],
      "source": [
        "# Model Building\n",
        "def createModel():\n",
        "    model = Sequential()\n",
        "    # The first two layers with 32 filters of window size 3x3\n",
        "    model.add(Conv2D(32, (3, 3), padding='same', activation='relu', input_shape=input_shape))\n",
        "    model.add(Conv2D(32, (3, 3), activation='relu'))\n",
        "    model.add(MaxPooling2D(pool_size=(2, 2)))\n",
        "    model.add(Dropout(0.25))\n",
        "\n",
        "    model.add(Conv2D(64, (3, 3), padding='same', activation='relu'))\n",
        "    model.add(Conv2D(64, (3, 3), activation='relu'))\n",
        "    model.add(MaxPooling2D(pool_size=(2, 2)))\n",
        "    model.add(Dropout(0.25))\n",
        "\n",
        "    model.add(Conv2D(64, (3, 3), padding='same', activation='relu'))\n",
        "    model.add(Conv2D(64, (3, 3), activation='relu'))\n",
        "    model.add(MaxPooling2D(pool_size=(2, 2)))\n",
        "    model.add(Dropout(0.25))\n",
        "\n",
        "    model.add(Flatten())\n",
        "    model.add(Dense(512, activation='relu'))\n",
        "    model.add(Dropout(0.5))\n",
        "    model.add(Dense(nClasses, activation='softmax'))\n",
        "\n",
        "    return model"
      ]
    },
    {
      "cell_type": "code",
      "execution_count": null,
      "metadata": {
        "id": "xAlz91_f9D0k"
      },
      "outputs": [],
      "source": [
        "# Model Compiling Part\n",
        "model1 = createModel()\n",
        "batch_size = 256\n",
        "epochs = 50\n",
        "model1.compile(optimizer='rmsprop', loss='categorical_crossentropy', metrics=['accuracy'])"
      ]
    },
    {
      "cell_type": "code",
      "execution_count": null,
      "metadata": {
        "id": "qijbYcyk9D0l",
        "outputId": "766a0cba-b7a8-4876-d208-c4fa7ad86e66"
      },
      "outputs": [
        {
          "name": "stdout",
          "output_type": "stream",
          "text": [
            "Model: \"sequential\"\n",
            "_________________________________________________________________\n",
            "Layer (type)                 Output Shape              Param #   \n",
            "=================================================================\n",
            "conv2d (Conv2D)              (None, 32, 32, 32)        896       \n",
            "_________________________________________________________________\n",
            "conv2d_1 (Conv2D)            (None, 30, 30, 32)        9248      \n",
            "_________________________________________________________________\n",
            "max_pooling2d (MaxPooling2D) (None, 15, 15, 32)        0         \n",
            "_________________________________________________________________\n",
            "dropout (Dropout)            (None, 15, 15, 32)        0         \n",
            "_________________________________________________________________\n",
            "conv2d_2 (Conv2D)            (None, 15, 15, 64)        18496     \n",
            "_________________________________________________________________\n",
            "conv2d_3 (Conv2D)            (None, 13, 13, 64)        36928     \n",
            "_________________________________________________________________\n",
            "max_pooling2d_1 (MaxPooling2 (None, 6, 6, 64)          0         \n",
            "_________________________________________________________________\n",
            "dropout_1 (Dropout)          (None, 6, 6, 64)          0         \n",
            "_________________________________________________________________\n",
            "conv2d_4 (Conv2D)            (None, 6, 6, 64)          36928     \n",
            "_________________________________________________________________\n",
            "conv2d_5 (Conv2D)            (None, 4, 4, 64)          36928     \n",
            "_________________________________________________________________\n",
            "max_pooling2d_2 (MaxPooling2 (None, 2, 2, 64)          0         \n",
            "_________________________________________________________________\n",
            "dropout_2 (Dropout)          (None, 2, 2, 64)          0         \n",
            "_________________________________________________________________\n",
            "flatten (Flatten)            (None, 256)               0         \n",
            "_________________________________________________________________\n",
            "dense (Dense)                (None, 512)               131584    \n",
            "_________________________________________________________________\n",
            "dropout_3 (Dropout)          (None, 512)               0         \n",
            "_________________________________________________________________\n",
            "dense_1 (Dense)              (None, 10)                5130      \n",
            "=================================================================\n",
            "Total params: 276,138\n",
            "Trainable params: 276,138\n",
            "Non-trainable params: 0\n",
            "_________________________________________________________________\n"
          ]
        }
      ],
      "source": [
        "# Evaluating model summary\n",
        "model1.summary()"
      ]
    },
    {
      "cell_type": "code",
      "execution_count": null,
      "metadata": {
        "id": "Rcg68HzW9D0l",
        "outputId": "bf4343f2-6047-43ae-82b0-0baee7483952"
      },
      "outputs": [
        {
          "name": "stdout",
          "output_type": "stream",
          "text": [
            "Epoch 1/50\n",
            "196/196 [==============================] - 289s 1s/step - loss: 2.0666 - accuracy: 0.2418 - val_loss: 1.8362 - val_accuracy: 0.3439\n",
            "Epoch 2/50\n",
            "196/196 [==============================] - 226s 1s/step - loss: 1.7325 - accuracy: 0.3725 - val_loss: 1.5259 - val_accuracy: 0.4421\n",
            "Epoch 3/50\n",
            "196/196 [==============================] - 247s 1s/step - loss: 1.5371 - accuracy: 0.4472 - val_loss: 1.4039 - val_accuracy: 0.4921\n",
            "Epoch 4/50\n",
            "196/196 [==============================] - 250s 1s/step - loss: 1.3925 - accuracy: 0.4987 - val_loss: 1.2739 - val_accuracy: 0.5409\n",
            "Epoch 5/50\n",
            "196/196 [==============================] - 249s 1s/step - loss: 1.2864 - accuracy: 0.5426 - val_loss: 1.3683 - val_accuracy: 0.5258\n",
            "Epoch 6/50\n",
            "196/196 [==============================] - 246s 1s/step - loss: 1.1922 - accuracy: 0.5773 - val_loss: 1.1149 - val_accuracy: 0.6007\n",
            "Epoch 7/50\n",
            "196/196 [==============================] - 247s 1s/step - loss: 1.1325 - accuracy: 0.5991 - val_loss: 1.0230 - val_accuracy: 0.6351\n",
            "Epoch 8/50\n",
            "196/196 [==============================] - 229s 1s/step - loss: 1.0664 - accuracy: 0.6231 - val_loss: 1.0094 - val_accuracy: 0.6408\n",
            "Epoch 9/50\n",
            "196/196 [==============================] - 220s 1s/step - loss: 1.0101 - accuracy: 0.6439 - val_loss: 1.6499 - val_accuracy: 0.5063\n",
            "Epoch 10/50\n",
            "196/196 [==============================] - 253s 1s/step - loss: 0.9704 - accuracy: 0.6576 - val_loss: 0.9275 - val_accuracy: 0.6794\n",
            "Epoch 11/50\n",
            "196/196 [==============================] - 226s 1s/step - loss: 0.9114 - accuracy: 0.6806 - val_loss: 0.8769 - val_accuracy: 0.6929\n",
            "Epoch 12/50\n",
            "196/196 [==============================] - 218s 1s/step - loss: 0.8794 - accuracy: 0.6915 - val_loss: 0.8430 - val_accuracy: 0.7097\n",
            "Epoch 13/50\n",
            "196/196 [==============================] - 218s 1s/step - loss: 0.8421 - accuracy: 0.7054 - val_loss: 0.7830 - val_accuracy: 0.7308\n",
            "Epoch 14/50\n",
            "196/196 [==============================] - 261s 1s/step - loss: 0.8096 - accuracy: 0.7178 - val_loss: 0.9557 - val_accuracy: 0.6695\n",
            "Epoch 15/50\n",
            "196/196 [==============================] - 223s 1s/step - loss: 0.7826 - accuracy: 0.7265 - val_loss: 0.8487 - val_accuracy: 0.7131\n",
            "Epoch 16/50\n",
            "196/196 [==============================] - 6133s 31s/step - loss: 0.7594 - accuracy: 0.7370 - val_loss: 1.1334 - val_accuracy: 0.6425\n",
            "Epoch 17/50\n",
            " 53/196 [=======>......................] - ETA: 23:26:00 - loss: 0.7460 - accuracy: 0.7406"
          ]
        }
      ],
      "source": [
        "# Fitting and Evaluating the Model\n",
        "history = model1.fit(train_data, train_labels_one_hot, batch_size=batch_size, epochs=epochs, verbose=1,\n",
        "                   validation_data=(test_data, test_labels_one_hot))\n",
        "model1.evaluate(test_data, test_labels_one_hot)"
      ]
    },
    {
      "cell_type": "code",
      "execution_count": null,
      "metadata": {
        "id": "ZL2LD3Xy9D0m"
      },
      "outputs": [],
      "source": [
        "# Loss Curves\n",
        "plt.figure(figsize=[8,6])\n",
        "plt.plot(history.history['loss'],'r',linewidth=3.0)\n",
        "plt.plot(history.history['val_loss'],'b',linewidth=3.0)\n",
        "plt.legend(['Training loss', 'Validation Loss'],fontsize=18)\n",
        "plt.xlabel('Epochs ',fontsize=16)\n",
        "plt.ylabel('Loss',fontsize=16)\n",
        "plt.title('Loss Curves',fontsize=16)"
      ]
    },
    {
      "cell_type": "code",
      "execution_count": null,
      "metadata": {
        "id": "k2uqg9Tw9D0m"
      },
      "outputs": [],
      "source": [
        "# Accuracy Curves\n",
        "plt.figure(figsize=[8,6])\n",
        "plt.plot(history.history['acc'],'r',linewidth=3.0)\n",
        "plt.plot(history.history['val_acc'],'b',linewidth=3.0)\n",
        "plt.legend(['Training Accuracy', 'Validation Accuracy'],fontsize=18)\n",
        "plt.xlabel('Epochs ',fontsize=16)\n",
        "plt.ylabel('Accuracy',fontsize=16)\n",
        "plt.title('Accuracy Curves',fontsize=16)"
      ]
    },
    {
      "cell_type": "code",
      "execution_count": null,
      "metadata": {
        "id": "zr-oykDE9D0m"
      },
      "outputs": [],
      "source": []
    }
  ],
  "metadata": {
    "kernelspec": {
      "display_name": "Python 3",
      "language": "python",
      "name": "python3"
    },
    "language_info": {
      "codemirror_mode": {
        "name": "ipython",
        "version": 3
      },
      "file_extension": ".py",
      "mimetype": "text/x-python",
      "name": "python",
      "nbconvert_exporter": "python",
      "pygments_lexer": "ipython3",
      "version": "3.8.3"
    },
    "colab": {
      "provenance": []
    }
  },
  "nbformat": 4,
  "nbformat_minor": 0
}